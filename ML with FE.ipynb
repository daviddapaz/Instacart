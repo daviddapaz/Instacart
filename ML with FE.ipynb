{
 "cells": [
  {
   "cell_type": "code",
   "execution_count": 1,
   "metadata": {},
   "outputs": [],
   "source": [
    "import numpy as np\n",
    "import pandas as pd\n",
    "import matplotlib.pyplot as plt\n",
    "%matplotlib inline\n",
    "import seaborn as sns\n",
    "\n",
    "import warnings\n",
    "warnings.filterwarnings(\"ignore\")"
   ]
  },
  {
   "cell_type": "code",
   "execution_count": 15,
   "metadata": {},
   "outputs": [
    {
     "data": {
      "text/plain": [
       "<bound method NDFrame.head of                y  total_buy_n5  total_buy_ratio_n5  order_ratio_by_chance_n5  \\\n",
       "up_pair                                                                        \n",
       "001-000196     1             5                 1.0                  1.000000   \n",
       "001-010258     1             5                 1.0                  1.000000   \n",
       "001-010326     0             0                 0.0                  0.000000   \n",
       "001-012427     0             5                 1.0                  1.000000   \n",
       "001-013032     1             2                 0.4                  0.400000   \n",
       "001-013176     0             0                 0.0                  0.000000   \n",
       "001-014084     0             0                 0.0                  0.000000   \n",
       "001-017122     0             0                 0.0                  0.000000   \n",
       "001-025133     1             5                 1.0                  1.000000   \n",
       "001-026088     1             0                 0.0                  0.000000   \n",
       "001-026405     1             0                 0.0                  0.000000   \n",
       "001-030450     0             0                 0.0                  0.000000   \n",
       "001-035951     0             1                 0.2                  1.000000   \n",
       "001-038928     1             1                 0.2                  1.000000   \n",
       "001-039657     1             1                 0.2                  1.000000   \n",
       "001-041787     0             0                 0.0                  0.000000   \n",
       "001-046149     1             3                 0.6                  1.000000   \n",
       "001-049235     1             2                 0.4                  0.666667   \n",
       "0010-000260    0             2                 0.4                  1.000000   \n",
       "0010-001529    0             3                 0.6                  0.750000   \n",
       "0010-004920    0             1                 0.2                  0.333333   \n",
       "0010-005450    0             1                 0.2                  0.333333   \n",
       "0010-005646    0             1                 0.2                  0.250000   \n",
       "0010-005769    0             1                 0.2                  0.333333   \n",
       "0010-005818    0             1                 0.2                  0.250000   \n",
       "0010-007632    0             1                 0.2                  0.250000   \n",
       "0010-007746    0             1                 0.2                  0.250000   \n",
       "0010-008988    0             1                 0.2                  0.250000   \n",
       "0010-009339    0             3                 0.6                  0.750000   \n",
       "0010-009871    0             2                 0.4                  1.000000   \n",
       "...           ..           ...                 ...                       ...   \n",
       "206209-023892  0             1                 0.2                  0.200000   \n",
       "206209-023909  0             0                 0.0                  0.000000   \n",
       "206209-024852  1             4                 0.8                  1.000000   \n",
       "206209-025544  0             0                 0.0                  0.000000   \n",
       "206209-025837  0             0                 0.0                  0.000000   \n",
       "206209-026209  0             1                 0.2                  0.500000   \n",
       "206209-026503  0             1                 0.2                  0.250000   \n",
       "206209-026634  0             0                 0.0                  0.000000   \n",
       "206209-028156  0             0                 0.0                  0.000000   \n",
       "206209-028590  0             0                 0.0                  0.000000   \n",
       "206209-031130  0             1                 0.2                  0.250000   \n",
       "206209-031477  0             1                 0.2                  1.000000   \n",
       "206209-033129  0             1                 0.2                  0.200000   \n",
       "206209-033351  0             1                 0.2                  0.500000   \n",
       "206209-036056  0             0                 0.0                  0.000000   \n",
       "206209-037654  0             0                 0.0                  0.000000   \n",
       "206209-038167  0             2                 0.4                  0.400000   \n",
       "206209-038730  0             1                 0.2                  1.000000   \n",
       "206209-039216  1             1                 0.2                  1.000000   \n",
       "206209-040310  0             1                 0.2                  0.333333   \n",
       "206209-040396  0             0                 0.0                  0.000000   \n",
       "206209-040534  0             0                 0.0                  0.000000   \n",
       "206209-040992  0             0                 0.0                  0.000000   \n",
       "206209-041213  0             3                 0.6                  0.600000   \n",
       "206209-041665  0             0                 0.0                  0.000000   \n",
       "206209-043961  0             1                 0.2                  0.200000   \n",
       "206209-044325  0             0                 0.0                  0.000000   \n",
       "206209-048370  0             1                 0.2                  0.333333   \n",
       "206209-048697  0             0                 0.0                  0.000000   \n",
       "206209-048742  0             1                 0.2                  0.200000   \n",
       "\n",
       "               useritem_order_days_max_n5  useritem_order_days_min_n5  \n",
       "up_pair                                                                \n",
       "001-000196                           30.0                         0.0  \n",
       "001-010258                           30.0                         0.0  \n",
       "001-010326                           83.0                        83.0  \n",
       "001-012427                           30.0                         0.0  \n",
       "001-013032                           34.0                        19.0  \n",
       "001-013176                           83.0                        83.0  \n",
       "001-014084                           83.0                        83.0  \n",
       "001-017122                           83.0                        83.0  \n",
       "001-025133                           30.0                         0.0  \n",
       "001-026088                           83.0                        83.0  \n",
       "001-026405                           83.0                        83.0  \n",
       "001-030450                           83.0                        83.0  \n",
       "001-035951                           53.0                        30.0  \n",
       "001-038928                           53.0                        30.0  \n",
       "001-039657                           53.0                        30.0  \n",
       "001-041787                           83.0                        83.0  \n",
       "001-046149                           39.0                         0.0  \n",
       "001-049235                           39.0                        14.0  \n",
       "0010-000260                          42.0                        14.0  \n",
       "0010-001529                          42.0                        14.0  \n",
       "0010-004920                          49.0                        49.0  \n",
       "0010-005450                          49.0                        49.0  \n",
       "0010-005646                          79.0                        79.0  \n",
       "0010-005769                          49.0                        49.0  \n",
       "0010-005818                          79.0                        79.0  \n",
       "0010-007632                          79.0                        79.0  \n",
       "0010-007746                          79.0                        79.0  \n",
       "0010-008988                          79.0                        79.0  \n",
       "0010-009339                          42.0                        14.0  \n",
       "0010-009871                          42.0                        14.0  \n",
       "...                                   ...                         ...  \n",
       "206209-023892                       106.0                       106.0  \n",
       "206209-023909                       106.0                       106.0  \n",
       "206209-024852                        30.0                         7.0  \n",
       "206209-025544                       106.0                       106.0  \n",
       "206209-025837                       106.0                       106.0  \n",
       "206209-026209                        81.0                        25.0  \n",
       "206209-026503                        84.0                        22.0  \n",
       "206209-026634                       106.0                       106.0  \n",
       "206209-028156                       106.0                       106.0  \n",
       "206209-028590                       106.0                       106.0  \n",
       "206209-031130                        84.0                        22.0  \n",
       "206209-031477                        99.0                         7.0  \n",
       "206209-033129                        81.0                        25.0  \n",
       "206209-033351                        81.0                        25.0  \n",
       "206209-036056                       106.0                       106.0  \n",
       "206209-037654                       106.0                       106.0  \n",
       "206209-038167                        81.0                        25.0  \n",
       "206209-038730                        99.0                         7.0  \n",
       "206209-039216                        99.0                         7.0  \n",
       "206209-040310                        55.0                        51.0  \n",
       "206209-040396                       106.0                       106.0  \n",
       "206209-040534                       106.0                       106.0  \n",
       "206209-040992                       106.0                       106.0  \n",
       "206209-041213                        30.0                        22.0  \n",
       "206209-041665                       106.0                       106.0  \n",
       "206209-043961                        81.0                        25.0  \n",
       "206209-044325                       106.0                       106.0  \n",
       "206209-048370                        55.0                        51.0  \n",
       "206209-048697                       106.0                       106.0  \n",
       "206209-048742                        81.0                        25.0  \n",
       "\n",
       "[13307953 rows x 6 columns]>"
      ]
     },
     "execution_count": 15,
     "metadata": {},
     "output_type": "execute_result"
    }
   ],
   "source": [
    "df = pd.read_csv('output_file.csv', index_col=0)\n",
    "df.head"
   ]
  },
  {
   "cell_type": "code",
   "execution_count": 16,
   "metadata": {},
   "outputs": [
    {
     "data": {
      "text/plain": [
       "Index(['y', 'total_buy_n5', 'total_buy_ratio_n5', 'order_ratio_by_chance_n5',\n",
       "       'useritem_order_days_max_n5', 'useritem_order_days_min_n5'],\n",
       "      dtype='object')"
      ]
     },
     "execution_count": 16,
     "metadata": {},
     "output_type": "execute_result"
    }
   ],
   "source": [
    "df.columns"
   ]
  },
  {
   "cell_type": "code",
   "execution_count": 17,
   "metadata": {},
   "outputs": [
    {
     "name": "stdout",
     "output_type": "stream",
     "text": [
      "X_train: (10646362, 5) float64\n",
      "y_train: (10646362,) int64\n",
      "X_test: (2661591, 5) float64\n",
      "y_test: (2661591,) int64\n"
     ]
    }
   ],
   "source": [
    "X = df.drop('y', axis=1).values\n",
    "y = df['y'].values\n",
    "\n",
    "# Splitting the data\n",
    "from sklearn.model_selection import train_test_split\n",
    "\n",
    "# Due to computing constraints we have to reduce the data\n",
    "#X_to_use, X_not_used, y_to_use, y_not_used = train_test_split(X, y,train_size=0.2,test_size=0.8)\n",
    "\n",
    "# Split data\n",
    "X_train, X_test, y_train, y_test = train_test_split(X, y,train_size=0.8,test_size=0.2)\n",
    "\n",
    "# checking the shapes\n",
    "#print('X_to_use:', X_to_use.shape, X_to_use.dtype)\n",
    "#print('y_to_use:', y_to_use.shape, y_to_use.dtype)\n",
    "print('X_train:', X_train.shape, X_train.dtype)\n",
    "print('y_train:', y_train.shape, y_train.dtype)\n",
    "print('X_test:', X_test.shape, X_test.dtype)\n",
    "print('y_test:', y_test.shape, y_test.dtype)"
   ]
  },
  {
   "cell_type": "markdown",
   "metadata": {},
   "source": [
    "# SGD"
   ]
  },
  {
   "cell_type": "code",
   "execution_count": 18,
   "metadata": {},
   "outputs": [
    {
     "name": "stdout",
     "output_type": "stream",
     "text": [
      "Accuracy: 0.938\n"
     ]
    }
   ],
   "source": [
    "from sklearn.linear_model import SGDClassifier\n",
    "\n",
    "# Create the estimator\n",
    "sgd_clf = SGDClassifier(random_state=42)\n",
    "\n",
    "# Fit the model to train data\n",
    "sgd_clf.fit(X_train, y_train)\n",
    "\n",
    "# Accuracy on test set\n",
    "accuracy_sgd = sgd_clf.score(X_test, y_test)\n",
    "\n",
    "print('Accuracy: {:.3f}'.format(accuracy_sgd))"
   ]
  },
  {
   "cell_type": "markdown",
   "metadata": {},
   "source": [
    "# Logistic Regression"
   ]
  },
  {
   "cell_type": "code",
   "execution_count": 20,
   "metadata": {},
   "outputs": [
    {
     "name": "stdout",
     "output_type": "stream",
     "text": [
      "Accuracy: 0.937\n"
     ]
    }
   ],
   "source": [
    "from sklearn.linear_model import LogisticRegression\n",
    "\n",
    "# Create the estimator\n",
    "logreg = LogisticRegression()\n",
    "\n",
    "# Fit the model to train data\n",
    "logreg.fit(X_train, y_train)\n",
    "\n",
    "# Accuracy on test set\n",
    "accuracy_logreg = logreg.score(X_test, y_test)\n",
    "\n",
    "print('Accuracy: {:.3f}'.format(accuracy_logreg))"
   ]
  }
 ],
 "metadata": {
  "kernelspec": {
   "display_name": "Python 3",
   "language": "python",
   "name": "python3"
  },
  "language_info": {
   "codemirror_mode": {
    "name": "ipython",
    "version": 3
   },
   "file_extension": ".py",
   "mimetype": "text/x-python",
   "name": "python",
   "nbconvert_exporter": "python",
   "pygments_lexer": "ipython3",
   "version": "3.6.4"
  }
 },
 "nbformat": 4,
 "nbformat_minor": 2
}
