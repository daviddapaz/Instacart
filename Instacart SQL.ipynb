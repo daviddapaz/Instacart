{
 "cells": [
  {
   "cell_type": "markdown",
   "metadata": {},
   "source": [
    "# Import libraries"
   ]
  },
  {
   "cell_type": "code",
   "execution_count": 5,
   "metadata": {},
   "outputs": [],
   "source": [
    "# Import libraries\n",
    "import os\n",
    "import sys\n",
    "import sqlite3\n",
    "from sqlalchemy import create_engine\n",
    "from sqlalchemy.engine.reflection import Inspector\n",
    "import csv\n",
    "import pandas as pd"
   ]
  },
  {
   "cell_type": "markdown",
   "metadata": {},
   "source": [
    "# Data Preparation"
   ]
  },
  {
   "cell_type": "markdown",
   "metadata": {},
   "source": [
    "## Creating a SQL database"
   ]
  },
  {
   "cell_type": "markdown",
   "metadata": {},
   "source": [
    "description: why a SQL database?"
   ]
  },
  {
   "cell_type": "code",
   "execution_count": 11,
   "metadata": {},
   "outputs": [],
   "source": [
    "db = sqlite3.connect('instacart.db')\n",
    "c = db.cursor()"
   ]
  },
  {
   "cell_type": "code",
   "execution_count": 3,
   "metadata": {},
   "outputs": [
    {
     "name": "stdout",
     "output_type": "stream",
     "text": [
      "['products.csv', 'orders.csv', 'order_products__train.csv', 'departments.csv', 'aisles.csv', 'order_products__prior.csv']\n"
     ]
    }
   ],
   "source": [
    "# Read CSV into SQLite database\n",
    "files_list = [file  for file in os.listdir() if file.find(\".csv\") != -1 ]\n",
    "print (files_list)"
   ]
  },
  {
   "cell_type": "code",
   "execution_count": null,
   "metadata": {
    "scrolled": false
   },
   "outputs": [],
   "source": [
    "for file in files_list:\n",
    "        table = file.split(\".\")[0]\n",
    "        print('\\n loading table {}'.format(table))\n",
    "        file_name = file\n",
    "        for chunk in pd.read_csv(file_name, chunksize=10000):\n",
    "            chunk.to_sql(name=table, con=db, if_exists='append', index=False )\n",
    "        print('completed')\n",
    "print('all tables loaded')"
   ]
  },
  {
   "cell_type": "markdown",
   "metadata": {},
   "source": [
    "### Checking the SQL database upload"
   ]
  },
  {
   "cell_type": "code",
   "execution_count": null,
   "metadata": {},
   "outputs": [],
   "source": [
    "# Creating dataframes and checking shape\n",
    "aisles = pd.read_sql_query(\"SELECT * FROM aisles;\", db)\n",
    "products = pd.read_sql_query(\"SELECT * FROM products;\", db)\n",
    "departments = pd.read_sql_query(\"SELECT * FROM departments;\", db)\n",
    "orders = pd.read_sql_query(\"SELECT * FROM orders;\", db)\n",
    "order_products__train = pd.read_sql_query(\"SELECT * FROM order_products__train;\", db)\n",
    "order_products__prior = pd.read_sql_query(\"SELECT * FROM order_products__prior;\", db)\n",
    "\n",
    "print('Total number of aisles: {}'.format(aisles.shape[0]))\n",
    "print('Total number of products: {}'.format(products.shape[0]))\n",
    "print('Total number of orders: {}'.format(orders.shape[0]))\n",
    "print('Total number of order_products__train: {}'.format(order_products__train.shape[0]))\n",
    "print('Total number of order_products__prior: {}'.format(order_products__prior.shape[0]))"
   ]
  },
  {
   "cell_type": "code",
   "execution_count": null,
   "metadata": {},
   "outputs": [],
   "source": [
    "del aisles, products, departments, orders, order_products__train, order_products__prior"
   ]
  },
  {
   "cell_type": "code",
   "execution_count": 4,
   "metadata": {},
   "outputs": [],
   "source": [
    "# Create table\n",
    "c.execute('''CREATE TABLE up_pairs_train AS\n",
    "             SELECT substr('00'||orders.user_id, -6) || '-' || \n",
    "                 substr('0000'||order_products__train.product_id, -6) AS up_pair\n",
    "             FROM order_products__train\n",
    "             JOIN orders\n",
    "             ON orders.order_id = order_products__train.order_id\n",
    "             GROUP BY up_pair\n",
    "             ORDER BY user_id ASC, product_id ASC''')\n",
    "\n",
    "# Save (commit) the changes\n",
    "db.commit()"
   ]
  },
  {
   "cell_type": "code",
   "execution_count": 5,
   "metadata": {},
   "outputs": [],
   "source": [
    "# Create table\n",
    "c.execute('''CREATE TABLE up_pairs_prior AS\n",
    "             SELECT substr('00'||orders.user_id, -6) || '-' || \n",
    "                 substr('0000'||order_products__prior.product_id, -6) AS up_pair,\n",
    "                 orders.user_id AS user_id, \n",
    "                 order_products__prior.product_id AS product_id,\n",
    "                 orders.order_number AS order_number\n",
    "             FROM order_products__prior\n",
    "             JOIN orders\n",
    "             ON orders.order_id = order_products__prior.order_id\n",
    "             ORDER BY user_id ASC, product_id ASC''')\n",
    "\n",
    "# Save (commit) the changes\n",
    "db.commit()"
   ]
  },
  {
   "cell_type": "code",
   "execution_count": 6,
   "metadata": {},
   "outputs": [],
   "source": [
    "# Create table\n",
    "c.execute('''CREATE TABLE max_order_by_user AS\n",
    "             SELECT user_id, MAX(order_number) AS max_order_number\n",
    "             FROM up_pairs_prior\n",
    "             GROUP BY user_id\n",
    "             ORDER BY user_id ASC''')\n",
    "\n",
    "# Save (commit) the changes\n",
    "db.commit()"
   ]
  },
  {
   "cell_type": "code",
   "execution_count": 7,
   "metadata": {},
   "outputs": [],
   "source": [
    "# Create table\n",
    "c.execute('''CREATE TABLE up_pairs_prior_modified AS\n",
    "             SELECT up_pairs_prior.*, \n",
    "             max_order_by_user.max_order_number,\n",
    "             (1 + max_order_by_user.max_order_number - up_pairs_prior.order_number) AS order_number_rev\n",
    "             FROM up_pairs_prior\n",
    "             JOIN max_order_by_user\n",
    "             ON max_order_by_user.user_id = up_pairs_prior.user_id''')\n",
    "\n",
    "# Save (commit) the changes\n",
    "db.commit()"
   ]
  },
  {
   "cell_type": "code",
   "execution_count": 8,
   "metadata": {},
   "outputs": [],
   "source": [
    "# Create table\n",
    "c.execute('''CREATE TABLE first_data_table AS\n",
    "             SELECT up_pairs_prior_modified.up_pair AS up_pair,\n",
    "                 up_pairs_prior_modified.user_id AS user_id, \n",
    "                 up_pairs_prior_modified.product_id AS product_id, \n",
    "                 CASE WHEN up_pairs_train.up_pair IS NULL THEN 0 ELSE 1 END as 'y',\n",
    "                 SUM(CASE WHEN (order_number_rev <= 5) THEN 1 ELSE 0 END) AS total_buy_n5,    \n",
    "                 SUM(CASE WHEN (order_number_rev <= 5) THEN 1 ELSE 0 END) / 5.0 AS total_buy_ratio_n5,                 \n",
    "                 MAX(order_number_rev) AS max_order_number_rev,\n",
    "                 CASE WHEN MAX(order_number_rev) > 5\n",
    "                     THEN (SUM(CASE WHEN (order_number_rev <= 5) THEN 1 ELSE 0 END) / 5.0)\n",
    "                     ELSE (SUM(CASE WHEN (order_number_rev <= 5) THEN 1 ELSE 0 END) /\n",
    "                         (MAX(order_number_rev) * 1.0))\n",
    "                     END AS order_ratio_by_chance_n5                     \n",
    "             FROM up_pairs_prior_modified\n",
    "             LEFT JOIN up_pairs_train ON up_pairs_train.up_pair = up_pairs_prior_modified.up_pair\n",
    "             GROUP BY up_pairs_prior_modified.up_pair''')\n",
    "\n",
    "# Save (commit) the changes\n",
    "db.commit()"
   ]
  },
  {
   "cell_type": "code",
   "execution_count": 9,
   "metadata": {},
   "outputs": [],
   "source": [
    "# Create table\n",
    "c.execute('''CREATE VIEW n5_view AS\n",
    "             SELECT user_id, \n",
    "                 MAX(order_number) AS order_number_n1,\n",
    "                 CASE WHEN (MAX(order_number) - 1) < 1 THEN NULL \n",
    "                     ELSE (MAX(order_number) - 1) END AS order_number_n2,\n",
    "                 CASE WHEN (MAX(order_number) - 2) < 1 THEN NULL \n",
    "                     ELSE (MAX(order_number) - 2) END AS order_number_n3,\n",
    "                 CASE WHEN (MAX(order_number) - 3) < 1 THEN NULL \n",
    "                     ELSE (MAX(order_number) - 3) END AS order_number_n4,\n",
    "                 CASE WHEN (MAX(order_number) - 4) < 1 THEN NULL \n",
    "                     ELSE (MAX(order_number) - 4) END AS order_number_n5\n",
    "             FROM orders\n",
    "             WHERE eval_set = 'prior'\n",
    "             GROUP BY user_id''')\n",
    "\n",
    "# Save (commit) the changes\n",
    "db.commit()"
   ]
  },
  {
   "cell_type": "code",
   "execution_count": 10,
   "metadata": {},
   "outputs": [],
   "source": [
    "# Create table\n",
    "c.execute('''CREATE TABLE n5_table AS\n",
    "             SELECT n5_view.user_id,\n",
    "                 orders_t1.order_id AS order_id_n1,\n",
    "                 orders_t2.order_id AS order_id_n2,\n",
    "                 orders_t3.order_id AS order_id_n3,\n",
    "                 orders_t4.order_id AS order_id_n4,\n",
    "                 orders_t5.order_id AS order_id_n5,\n",
    "                 orders_t1.days_since_prior_order AS days_since_prior_order_n1,\n",
    "                 orders_t2.days_since_prior_order AS days_since_prior_order_n2,\n",
    "                 orders_t3.days_since_prior_order AS days_since_prior_order_n3,\n",
    "                 orders_t4.days_since_prior_order AS days_since_prior_order_n4,\n",
    "                 orders_t5.days_since_prior_order AS days_since_prior_order_n5\n",
    "             FROM n5_view\n",
    "                 LEFT JOIN orders AS orders_t1\n",
    "                 ON (orders_t1.user_id = n5_view.user_id\n",
    "                     AND orders_t1.order_number = n5_view.order_number_n1)\n",
    "                 LEFT JOIN orders AS orders_t2\n",
    "                 ON (orders_t2.user_id = n5_view.user_id\n",
    "                     AND orders_t2.order_number = n5_view.order_number_n2)\n",
    "                 LEFT JOIN orders AS orders_t3\n",
    "                 ON (orders_t3.user_id = n5_view.user_id\n",
    "                     AND orders_t3.order_number = n5_view.order_number_n3)\n",
    "                 LEFT JOIN orders AS orders_t4\n",
    "                 ON (orders_t4.user_id = n5_view.user_id\n",
    "                     AND orders_t4.order_number = n5_view.order_number_n4)\n",
    "                 LEFT JOIN orders AS orders_t5\n",
    "                 ON (orders_t5.user_id = n5_view.user_id\n",
    "                     AND orders_t5.order_number = n5_view.order_number_n5)''')\n",
    "\n",
    "# Save (commit) the changes\n",
    "db.commit()"
   ]
  },
  {
   "cell_type": "code",
   "execution_count": 11,
   "metadata": {},
   "outputs": [],
   "source": [
    "# Create table\n",
    "c.execute('''CREATE TABLE new_table AS\n",
    "             SELECT first_data_table.*,\n",
    "                 n5_table.order_id_n1,\n",
    "                 n5_table.order_id_n2,\n",
    "                 n5_table.order_id_n3,\n",
    "                 n5_table.order_id_n4,\n",
    "                 n5_table.order_id_n5\n",
    "             FROM first_data_table\n",
    "             LEFT JOIN n5_table\n",
    "             ON (n5_table.user_id = first_data_table.user_id)\n",
    "             ''')\n",
    "\n",
    "# Save (commit) the changes\n",
    "db.commit()"
   ]
  },
  {
   "cell_type": "code",
   "execution_count": 12,
   "metadata": {},
   "outputs": [],
   "source": [
    "# Create table\n",
    "c.execute('''CREATE TABLE new_table_2 AS\n",
    "             SELECT new_table.up_pair,\n",
    "                 new_table.y,\n",
    "                 new_table.total_buy_n5,\n",
    "                 new_table.total_buy_ratio_n5,\n",
    "                 new_table.order_ratio_by_chance_n5,                 \n",
    "                 n5_table.days_since_prior_order_n1,\n",
    "                 n5_table.days_since_prior_order_n2,\n",
    "                 n5_table.days_since_prior_order_n3,\n",
    "                 n5_table.days_since_prior_order_n4,\n",
    "                 n5_table.days_since_prior_order_n5,                 \n",
    "                 CASE WHEN order_products__prior_1.product_id IS NULL THEN 0 ELSE 1 END as bought_n1,\n",
    "                 CASE WHEN order_products__prior_2.product_id IS NULL THEN 0 ELSE 1 END as bought_n2,\n",
    "                 CASE WHEN order_products__prior_3.product_id IS NULL THEN 0 ELSE 1 END as bought_n3,\n",
    "                 CASE WHEN order_products__prior_4.product_id IS NULL THEN 0 ELSE 1 END as bought_n4,\n",
    "                 CASE WHEN order_products__prior_5.product_id IS NULL THEN 0 ELSE 1 END as bought_n5\n",
    "             FROM new_table\n",
    "             LEFT JOIN n5_table\n",
    "                 ON (n5_table.user_id = new_table.user_id)\n",
    "             LEFT JOIN order_products__prior AS order_products__prior_1\n",
    "                 ON (order_products__prior_1.order_id = new_table.order_id_n1\n",
    "                     AND order_products__prior_1.product_id = new_table.product_id)\n",
    "             LEFT JOIN order_products__prior AS order_products__prior_2\n",
    "                 ON (order_products__prior_2.order_id = new_table.order_id_n2\n",
    "                     AND order_products__prior_2.product_id = new_table.product_id)\n",
    "             LEFT JOIN order_products__prior AS order_products__prior_3\n",
    "                 ON (order_products__prior_3.order_id = new_table.order_id_n3\n",
    "                     AND order_products__prior_3.product_id = new_table.product_id)\n",
    "             LEFT JOIN order_products__prior AS order_products__prior_4\n",
    "                 ON (order_products__prior_4.order_id = new_table.order_id_n4\n",
    "                     AND order_products__prior_4.product_id = new_table.product_id)\n",
    "             LEFT JOIN order_products__prior AS order_products__prior_5\n",
    "                 ON (order_products__prior_5.order_id = new_table.order_id_n5\n",
    "                     AND order_products__prior_5.product_id = new_table.product_id)\n",
    "             ''')\n",
    "\n",
    "# Save (commit) the changes\n",
    "db.commit()"
   ]
  },
  {
   "cell_type": "code",
   "execution_count": 13,
   "metadata": {},
   "outputs": [],
   "source": [
    "# Create table\n",
    "c.execute('''CREATE TABLE new_table_3 AS\n",
    "             SELECT up_pair, \n",
    "                 y, \n",
    "                 total_buy_n5, \n",
    "                 total_buy_ratio_n5, \n",
    "                 order_ratio_by_chance_n5,                 \n",
    "                 \n",
    "                 MAX(IFNULL(order_days_n1, 0), \n",
    "                     IFNULL(order_days_n2, 0),\n",
    "                     IFNULL(order_days_n3, 0),\n",
    "                     IFNULL(order_days_n4, 0),\n",
    "                     IFNULL(order_days_n5, 0)) AS useritem_order_days_max_n5,\n",
    "                     \n",
    "                 CASE WHEN days_since_prior_order_n5 IS NULL THEN\n",
    "                     MIN(IFNULL(order_days_n1, 1000000), \n",
    "                         IFNULL(order_days_n2, 1000000),\n",
    "                         IFNULL(order_days_n3, 1000000),\n",
    "                         IFNULL(order_days_n4, 1000000),\n",
    "                         MAX(IFNULL(order_days_n1, 0), \n",
    "                             IFNULL(order_days_n2, 0),\n",
    "                             IFNULL(order_days_n3, 0),\n",
    "                             IFNULL(order_days_n4, 0),\n",
    "                             IFNULL(order_days_n5, 0)))  \n",
    "                     ELSE\n",
    "                     MIN(IFNULL(order_days_n1, 1000000), \n",
    "                         IFNULL(order_days_n2, 1000000),\n",
    "                         IFNULL(order_days_n3, 1000000),\n",
    "                         IFNULL(order_days_n4, 1000000),\n",
    "                         order_days_n5)\n",
    "                     END AS useritem_order_days_min_n5\n",
    "\n",
    "             FROM \n",
    "             (\n",
    "                 SELECT *,\n",
    "                     CASE WHEN bought_n1 = 0 THEN NULL\n",
    "                         ELSE days_since_prior_order_n1\n",
    "                         END AS order_days_n1,\n",
    "                 \n",
    "                     CASE WHEN bought_n2 = 0 THEN NULL\n",
    "                         ELSE CASE WHEN bought_n1 = 0 THEN\n",
    "                             (days_since_prior_order_n1 + days_since_prior_order_n2)\n",
    "                             ELSE days_since_prior_order_n2\n",
    "                             END\n",
    "                         END AS order_days_n2,\n",
    "                 \n",
    "                     CASE WHEN bought_n3 = 0 THEN NULL\n",
    "                         ELSE \n",
    "                         CASE WHEN bought_n2 = 0 THEN \n",
    "                             CASE WHEN bought_n1 = 0 THEN\n",
    "                                 (days_since_prior_order_n1 + days_since_prior_order_n2 +\n",
    "                                 days_since_prior_order_n3)\n",
    "                                 ELSE (days_since_prior_order_n2 + days_since_prior_order_n3) \n",
    "                                 END                    \n",
    "                             ELSE days_since_prior_order_n3\n",
    "                             END\n",
    "                         END AS order_days_n3,\n",
    "                         \n",
    "                     CASE WHEN bought_n4 = 0 THEN NULL\n",
    "                         ELSE \n",
    "                         CASE WHEN bought_n3 = 0 THEN\n",
    "                             CASE WHEN bought_n2 = 0 THEN\n",
    "                                 CASE WHEN bought_n1 = 0 THEN\n",
    "                                     (days_since_prior_order_n1 + days_since_prior_order_n2 +\n",
    "                                         days_since_prior_order_n3 + days_since_prior_order_n4)\n",
    "                                     ELSE (days_since_prior_order_n2 + days_since_prior_order_n3 +\n",
    "                                         days_since_prior_order_n4) \n",
    "                                     END                    \n",
    "                                 ELSE (days_since_prior_order_n3 + days_since_prior_order_n4)\n",
    "                                 END\n",
    "                             ELSE days_since_prior_order_n4\n",
    "                             END\n",
    "                         END AS order_days_n4,\n",
    "                         \n",
    "                     CASE WHEN bought_n4 = 0 THEN\n",
    "                         CASE WHEN bought_n3 = 0 THEN\n",
    "                             CASE WHEN bought_n2 = 0 THEN\n",
    "                                 CASE WHEN bought_n1 = 0 THEN\n",
    "                                     (days_since_prior_order_n1 + days_since_prior_order_n2 +\n",
    "                                         days_since_prior_order_n3 + days_since_prior_order_n4 + \n",
    "                                         IFNULL(days_since_prior_order_n5, 0))\n",
    "                                     ELSE (days_since_prior_order_n2 + days_since_prior_order_n3 +\n",
    "                                         days_since_prior_order_n4 + \n",
    "                                         IFNULL(days_since_prior_order_n5, 0)) \n",
    "                                     END                    \n",
    "                                 ELSE (days_since_prior_order_n3 + days_since_prior_order_n4 + \n",
    "                                     IFNULL(days_since_prior_order_n5, 0))\n",
    "                                 END\n",
    "                             ELSE (days_since_prior_order_n4 + IFNULL(days_since_prior_order_n5, 0))\n",
    "                             END\n",
    "                         ELSE IFNULL(days_since_prior_order_n5, 0)\n",
    "                         END AS order_days_n5\n",
    "             \n",
    "                 FROM new_table_2\n",
    "             )\n",
    "             GROUP BY up_pair\n",
    "             ''')\n",
    "\n",
    "# Save (commit) the changes\n",
    "db.commit()"
   ]
  },
  {
   "cell_type": "code",
   "execution_count": 14,
   "metadata": {},
   "outputs": [],
   "source": [
    "db_url = \"sqlite:///instacart.db\"\n",
    "engine = create_engine(db_url)"
   ]
  },
  {
   "cell_type": "code",
   "execution_count": 15,
   "metadata": {},
   "outputs": [
    {
     "data": {
      "text/plain": [
       "['up_pair',\n",
       " 'y',\n",
       " 'total_buy_n5',\n",
       " 'total_buy_ratio_n5',\n",
       " 'order_ratio_by_chance_n5',\n",
       " 'useritem_order_days_max_n5',\n",
       " 'useritem_order_days_min_n5']"
      ]
     },
     "execution_count": 15,
     "metadata": {},
     "output_type": "execute_result"
    }
   ],
   "source": [
    "# Create a list of column names\n",
    "col_names = [x['name'] for x in Inspector.from_engine(engine).get_columns('new_table_3')]\n",
    "col_names"
   ]
  },
  {
   "cell_type": "code",
   "execution_count": 13,
   "metadata": {},
   "outputs": [],
   "source": [
    "# Create the csv file that will contain the final, processed Instacart data\n",
    "data = c.execute(\"SELECT * FROM new_table_3\")\n",
    "with open('output_file.csv', 'w') as f:\n",
    "    writer = csv.writer(f)\n",
    "    writer.writerow(col_names)\n",
    "    writer.writerows(data)"
   ]
  },
  {
   "cell_type": "code",
   "execution_count": null,
   "metadata": {},
   "outputs": [],
   "source": []
  }
 ],
 "metadata": {
  "kernelspec": {
   "display_name": "Python 3",
   "language": "python",
   "name": "python3"
  },
  "language_info": {
   "codemirror_mode": {
    "name": "ipython",
    "version": 3
   },
   "file_extension": ".py",
   "mimetype": "text/x-python",
   "name": "python",
   "nbconvert_exporter": "python",
   "pygments_lexer": "ipython3",
   "version": "3.6.4"
  }
 },
 "nbformat": 4,
 "nbformat_minor": 2
}
